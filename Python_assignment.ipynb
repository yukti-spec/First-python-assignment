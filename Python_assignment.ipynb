{
  "nbformat": 4,
  "nbformat_minor": 0,
  "metadata": {
    "colab": {
      "provenance": []
    },
    "kernelspec": {
      "name": "python3",
      "display_name": "Python 3"
    },
    "language_info": {
      "name": "python"
    }
  },
  "cells": [
    {
      "cell_type": "markdown",
      "source": [
        "Question 1.  Explain the key features of Python that make it a popular\n",
        "    choice for programming.\n",
        "\n",
        "Ans: Following are the some points that make python a popular\n",
        "     choice for programming:-\n",
        "\n",
        "\n",
        "*  Python is easy to understand and write so that it is popular choice among programmers and developers\n",
        "*  It has a large and acvite community of developers.\n",
        "\n",
        "*  It has approx 1,37,000 extensive standard libraries.\n",
        "*  It can run on all major operating system (Windows, Linux,\n",
        "   macOS).\n",
        "\n",
        "\n",
        "*   It is used in variety of fields like web development, game\n",
        "    development, data scientist , machine learning etc.\n",
        "\n",
        "\n",
        "\n",
        "\n",
        "\n"
      ],
      "metadata": {
        "id": "ALW1hLUeedrc"
      }
    },
    {
      "cell_type": "markdown",
      "source": [
        "Question 2. Describe the role of predefined keywords in Python and\n",
        "   provide examples of how they are used in a program.\n",
        "\n",
        "Ans: Predefined keywords:- These are the reserved keywords in\n",
        "     python that have special meaning and can not use as a identifires.Python keywords play a crucial role in coding logic and flow control.\n",
        "     Here are some exemples of keywords commonly used in python:-\n",
        "\n",
        "*   if,elif,else :- These  are the conditional statements that\n",
        "    is execute a block of code on the basis of condition.\n",
        "    \n",
        "   Exemple-\n",
        "\n",
        "\n"
      ],
      "metadata": {
        "id": "BdeiVSlCftQh"
      }
    },
    {
      "cell_type": "code",
      "source": [
        "light = \"green\"\n",
        "if(light == \"red\"):\n",
        "  print(\"stop\")\n",
        "elif(light == \"green\"):\n",
        "  print(\"go\")\n",
        "else:\n",
        "  print(\"wait\")\n"
      ],
      "metadata": {
        "colab": {
          "base_uri": "https://localhost:8080/"
        },
        "id": "HF5f7R6nhJa1",
        "outputId": "509c65d6-dd9d-42b0-eec4-70ecbf4c4d6d"
      },
      "execution_count": null,
      "outputs": [
        {
          "output_type": "stream",
          "name": "stdout",
          "text": [
            "go\n"
          ]
        }
      ]
    },
    {
      "cell_type": "markdown",
      "source": [
        "\n",
        "\n",
        "*  for,while:-These are used for loops to create a block of\n",
        "   code untill a specifide condition met.\n",
        "   \n",
        "   Exemple-\n",
        "\n",
        "\n"
      ],
      "metadata": {
        "id": "vlTA5qJ0h63F"
      }
    },
    {
      "cell_type": "code",
      "source": [
        "i = 1\n",
        "while i <= 10:\n",
        "  print(i,end=\" \")\n",
        "  i += 1"
      ],
      "metadata": {
        "colab": {
          "base_uri": "https://localhost:8080/"
        },
        "id": "hn7fu8N2izYq",
        "outputId": "d8a01c9d-3529-41c3-9e6c-c9db5a333dbc"
      },
      "execution_count": null,
      "outputs": [
        {
          "output_type": "stream",
          "name": "stdout",
          "text": [
            "1 2 3 4 5 6 7 8 9 10 "
          ]
        }
      ]
    },
    {
      "cell_type": "markdown",
      "source": [
        " Question 3. Compare and contrast mutable and immutable objects in Python with examples.\n",
        "\n",
        "Ans: Mutable objects:-Mutable objects are those which allow\n",
        "     you  to change their contents after creation without create new one.\n",
        "     List in python is a mutable object.\n",
        "\n",
        "     Exemple-\n",
        "\n"
      ],
      "metadata": {
        "id": "EPQNeZa-jOtB"
      }
    },
    {
      "cell_type": "code",
      "source": [
        "num = [1,4,9,16,25,36,47,64]\n",
        "num[3] = 78\n",
        "print(num)"
      ],
      "metadata": {
        "colab": {
          "base_uri": "https://localhost:8080/"
        },
        "id": "FwBSKM7mkCTg",
        "outputId": "e190b241-cfb6-40f7-9cee-4533aa1feb10"
      },
      "execution_count": null,
      "outputs": [
        {
          "output_type": "stream",
          "name": "stdout",
          "text": [
            "[1, 4, 9, 78, 25, 36, 47, 64]\n"
          ]
        }
      ]
    },
    {
      "cell_type": "markdown",
      "source": [
        "[ NOTE - Here i tried to change the content at index 3 and without new object it has changed. With this we can say that a list is a mutable\n",
        "object.]\n",
        "\n",
        "Immutable object:- Imutable objects are those which you do not allow to change the content after creation ,if you will try to\n",
        " modify python will create a new object instead of change the previous object. Strings , integer , float are the exemples of immutable objects.\n",
        "\n",
        "Exemple-"
      ],
      "metadata": {
        "id": "cepJNg7ckf-G"
      }
    },
    {
      "cell_type": "code",
      "source": [
        "name = \"dwskills\"\n",
        "new_name = name.replace(\"d\",\"p\")\n",
        "print(new_name)"
      ],
      "metadata": {
        "colab": {
          "base_uri": "https://localhost:8080/"
        },
        "id": "Xz9gIrFAlUd1",
        "outputId": "52f4489b-9066-4a66-95d7-13a0e13b36b6"
      },
      "execution_count": null,
      "outputs": [
        {
          "output_type": "stream",
          "name": "stdout",
          "text": [
            "pwskills\n"
          ]
        }
      ]
    },
    {
      "cell_type": "markdown",
      "source": [
        "[NOTE - Here if i try to change its element within original object , it will throw error but try to change the element with new object the code has executed successfully. It shows that string is a immutable object.]\n"
      ],
      "metadata": {
        "id": "Uu3IciDKllyl"
      }
    },
    {
      "cell_type": "markdown",
      "source": [
        "Question 4. Discuss the different types of operators in Python and provide examples of how they are used.\n",
        "\n",
        "Ans:  In Python, operators are special symbols or keywords used to perform operations on values and variables. They are classified into various types, each serving specific purposes. Here are the main types of operators in Python:\n",
        "\n",
        "1. Arithmetic Operators\n",
        "\n",
        "   These operators are used to perform mathematical operations.\n",
        "\n",
        "   Addition (+): Adds two values.\n",
        "\n",
        "   Subtraction (-): Subtracts the right operand from the left.\n",
        "\n",
        "   Multiplication (*): Multiplies two values.\n",
        "\n",
        "   Division (/): Divides the left operand by the right; result is a float.\n",
        "\n",
        "   Floor Division (//): Divides and returns the integer part of the quotient.\n",
        "\n",
        "   Modulus (%): Returns the remainder of division.\n",
        "\n",
        "   Exponent (**): Raises the left operand to the power of the right operand.\n",
        "\n",
        "   Example:-\n",
        "   "
      ],
      "metadata": {
        "id": "Tk86ipbDWZi_"
      }
    },
    {
      "cell_type": "code",
      "source": [
        "a = 3\n",
        "b  = 8\n",
        "print(a+b)\n",
        "print(a-b)\n",
        "print(a*b)\n",
        "print(a/b)\n",
        "print(a//b)\n",
        "print(a%b)\n",
        "print(a**b)"
      ],
      "metadata": {
        "colab": {
          "base_uri": "https://localhost:8080/"
        },
        "id": "rUO0dTHCYv_I",
        "outputId": "6c0ec775-f5df-4343-980d-dcde132db1c7"
      },
      "execution_count": null,
      "outputs": [
        {
          "output_type": "stream",
          "name": "stdout",
          "text": [
            "11\n",
            "-5\n",
            "24\n",
            "0.375\n",
            "0\n",
            "3\n",
            "6561\n"
          ]
        }
      ]
    },
    {
      "cell_type": "markdown",
      "source": [
        "2. Comparison Operators\n",
        "\n",
        "   These operators compare two values and return a Boolean (True or False).\n",
        "\n",
        "   Equal (==): Checks if two values are equal.\n",
        "\n",
        "   Not Equal (!=): Checks if two values are not equal.\n",
        "\n",
        "   Greater Than (>): Checks if the left value is greater than the right.\n",
        "\n",
        "   Less Than (<): Checks if the left value is less than the right.\n",
        "\n",
        "   Greater Than or Equal To (>=): Checks if the left value is greater than or equal to the right.\n",
        "\n",
        "   Less Than or Equal To (<=): Checks if the left value is less than or equal to the right.\n",
        "\n",
        "   Example:-\n"
      ],
      "metadata": {
        "id": "3fb71JxQZhag"
      }
    },
    {
      "cell_type": "code",
      "source": [
        "a = 5\n",
        "b = 3\n",
        "print(a==b)\n",
        "print(a!=b)\n",
        "print(a>b)\n",
        "print(a<b)\n",
        "print(a>=b)\n",
        "print(a<=b)\n"
      ],
      "metadata": {
        "colab": {
          "base_uri": "https://localhost:8080/"
        },
        "id": "YFJMsXLTaejx",
        "outputId": "e5320182-a42d-45bf-9e76-7f58bc628368"
      },
      "execution_count": null,
      "outputs": [
        {
          "output_type": "stream",
          "name": "stdout",
          "text": [
            "False\n",
            "True\n",
            "True\n",
            "False\n",
            "True\n",
            "False\n"
          ]
        }
      ]
    },
    {
      "cell_type": "markdown",
      "source": [
        "3. Logical Operators\n",
        "\n",
        "   These operators are used to combine conditional statements.\n",
        "\n",
        "   AND (and): Returns True if both conditions are True\n",
        "\n",
        "   OR (or): Returns True if at least one condition is True\n",
        "\n",
        "   Example:-"
      ],
      "metadata": {
        "id": "urRT-mBCbR-P"
      }
    },
    {
      "cell_type": "code",
      "source": [
        "a = True\n",
        "b = False\n",
        "print(a and b)\n",
        "print(a or b)"
      ],
      "metadata": {
        "colab": {
          "base_uri": "https://localhost:8080/"
        },
        "id": "h3tKAzaAcwTR",
        "outputId": "ac55fca1-b36e-440e-ffc5-3c32cd721e7f"
      },
      "execution_count": null,
      "outputs": [
        {
          "output_type": "stream",
          "name": "stdout",
          "text": [
            "False\n",
            "True\n"
          ]
        }
      ]
    },
    {
      "cell_type": "markdown",
      "source": [
        "4. Assignment Operators\n",
        "\n",
        "  These operators are used to assign values to variables, with some also allowing mathematical operations as part of assignment.\n",
        "\n",
        "  Equals (=): Assigns a value to a variable.\n",
        "\n",
        "  Add and Assign (+=): Adds and assigns.\n",
        "\n",
        "  Subtract and Assign (-=): Subtracts and assigns.\n",
        "\n",
        "  Multiply and Assign (*=): Multiplies and assigns.\n",
        "\n",
        "  Divide and Assign (/=): Divides and assigns.\n",
        "\n",
        "  Modulus and Assign (%=): Finds modulus and assigns.\n",
        "\n",
        "  Example:-"
      ],
      "metadata": {
        "id": "Jsb-Pl1cdo2W"
      }
    },
    {
      "cell_type": "code",
      "source": [
        "a = 8\n",
        "a += 3\n",
        "a -= 7\n",
        "a *= 4\n",
        "a /= 2\n",
        "a %= 4\n",
        "\n"
      ],
      "metadata": {
        "id": "8l-7nURQe4qW"
      },
      "execution_count": null,
      "outputs": []
    },
    {
      "cell_type": "markdown",
      "source": [
        "5. Bitwise Operators\n",
        "\n",
        "   These operators perform operations on bits of numbers.\n",
        "\n",
        "   AND (&): Bitwise AND.\n",
        "\n",
        "   OR (|): Bitwise OR.\n",
        "\n",
        "   XOR (^): Bitwise XOR.\n",
        "\n",
        "   NOT (~): Bitwise NOT.\n",
        "\n",
        "   Left Shift (<<): Shifts bits to the left.\n",
        "\n",
        "   Right Shift (>>): Shifts bits to the right.\n",
        "\n",
        "   Example:-\n",
        "   \n"
      ],
      "metadata": {
        "id": "OzUzfV6MgE4f"
      }
    },
    {
      "cell_type": "code",
      "source": [
        "a = 6\n",
        "b = 3\n",
        "print(a & b)\n",
        "print(a | b)\n",
        "print(a ^ b)\n",
        "print( ~ a )\n",
        "print(a << b)\n",
        "print(a >> b)\n"
      ],
      "metadata": {
        "colab": {
          "base_uri": "https://localhost:8080/"
        },
        "id": "4Gdue9eQhX9E",
        "outputId": "be88a9c2-20fe-412f-fb9b-e1dae1b58404"
      },
      "execution_count": null,
      "outputs": [
        {
          "output_type": "stream",
          "name": "stdout",
          "text": [
            "1\n",
            "7\n",
            "6\n",
            "-6\n",
            "40\n",
            "0\n"
          ]
        }
      ]
    },
    {
      "cell_type": "markdown",
      "source": [
        "6. Identity Operators\n",
        "\n",
        "   These operators are used to compare the memory locations of two objects.\n",
        "\n",
        "   Is (is): Returns True if two variables point to the same object.\n",
        "\n",
        "   Is Not (is not): Returns True if two variables point to different objects.\n",
        "\n",
        "   Example:-"
      ],
      "metadata": {
        "id": "z0POZMHLjX-F"
      }
    },
    {
      "cell_type": "code",
      "source": [
        "a = 6\n",
        "b = 5\n",
        "print(a is b)\n",
        "print(a is not  b)"
      ],
      "metadata": {
        "colab": {
          "base_uri": "https://localhost:8080/"
        },
        "id": "CUohSITmkkXu",
        "outputId": "6c045526-ab34-4629-b2c8-54fdd3c68d3a"
      },
      "execution_count": null,
      "outputs": [
        {
          "output_type": "stream",
          "name": "stdout",
          "text": [
            "False\n",
            "True\n"
          ]
        }
      ]
    },
    {
      "cell_type": "markdown",
      "source": [
        "Question 5. Explain the concept of type casting in Python with examples.\n",
        "\n",
        "Ans:  Type casting, or type conversion, in Python is the process of converting one data type into another. Python supports both implicit type casting (done automatically by Python) and explicit type casting (done manually by the programmer).\n",
        "\n",
        "1. Implicit Type Casting\n",
        "\n",
        "   In implicit type casting, Python automatically converts one data type to another without the programmer’s intervention. This usually happens when performing operations with mixed data types where Python ensures the result is a compatible data type.\n",
        "\n",
        "   For example, if an integer and a float are used in an arithmetic operation, Python automatically converts the integer to a float for accurate computation.\n"
      ],
      "metadata": {
        "id": "LMHJxtsilm60"
      }
    },
    {
      "cell_type": "code",
      "source": [
        "a = 9\n",
        "b = 6.8\n",
        "print(a+b)"
      ],
      "metadata": {
        "colab": {
          "base_uri": "https://localhost:8080/"
        },
        "id": "5jpyu-ihnUTg",
        "outputId": "696498bc-11a0-4958-da48-8201e757de76"
      },
      "execution_count": null,
      "outputs": [
        {
          "output_type": "stream",
          "name": "stdout",
          "text": [
            "15.8\n"
          ]
        }
      ]
    },
    {
      "cell_type": "markdown",
      "source": [
        "2.  Explicit Type Casting\n",
        "\n",
        "    Explicit type casting is when the programmer manually converts one data type to another using Python’s built-in functions. The commonly used type casting functions include:\n",
        "\n",
        "    int(): Converts a value to an integer, discarding any decimal part if the value is a float.\n",
        "\n",
        "    float(): Converts a value to a floating-point number.\n",
        "\n",
        "    str(): Converts a value to a string.\n",
        "    \n",
        "\n",
        "     Example:-"
      ],
      "metadata": {
        "id": "sVBk_-H-nkWj"
      }
    },
    {
      "cell_type": "code",
      "source": [
        "a = int(\"5\")\n",
        "b = 6\n",
        "print(a + b)"
      ],
      "metadata": {
        "colab": {
          "base_uri": "https://localhost:8080/"
        },
        "id": "B3SoIHQCow-f",
        "outputId": "4cb4cf4e-46e4-406d-fa01-9ce4a6f6c8ee"
      },
      "execution_count": null,
      "outputs": [
        {
          "output_type": "stream",
          "name": "stdout",
          "text": [
            "11\n"
          ]
        }
      ]
    },
    {
      "cell_type": "markdown",
      "source": [
        "Question  6.  How do conditional statements work in Python? Illustrate with examples.\n",
        "\n",
        "Ans:   Conditional statements in Python allow you to control the flow of your program based on certain conditions. Python has several conditional statements: if, elif, and else.\n",
        "\n",
        "1.  if Statement\n",
        "\n",
        "    The if statement is used to execute a block of code only if a specified condition is true.\n",
        "\n",
        "    Example-"
      ],
      "metadata": {
        "id": "Px2_PtWypZ2K"
      }
    },
    {
      "cell_type": "code",
      "source": [
        "a = 5\n",
        "if (a > 3):\n",
        "  print(\"the value is greater than 3\")"
      ],
      "metadata": {
        "colab": {
          "base_uri": "https://localhost:8080/"
        },
        "id": "uNuqugqMqbEj",
        "outputId": "d15c848c-9116-420b-ca35-2690aacf264e"
      },
      "execution_count": null,
      "outputs": [
        {
          "output_type": "stream",
          "name": "stdout",
          "text": [
            "the value is greater than 3\n"
          ]
        }
      ]
    },
    {
      "cell_type": "markdown",
      "source": [
        "2.  if-else Statement\n",
        "\n",
        "    The if-else statement provides an alternative block of code to execute when the if condition is false.\n",
        "\n",
        "    Example-"
      ],
      "metadata": {
        "id": "qckTxJCRq0qj"
      }
    },
    {
      "cell_type": "code",
      "source": [
        "num = 10\n",
        "if (num%2==0):\n",
        "  print(\"number is even number\")\n",
        "else:\n",
        "  print(\"number is odd number\")\n",
        "\n"
      ],
      "metadata": {
        "colab": {
          "base_uri": "https://localhost:8080/"
        },
        "id": "YC5e3nworUSJ",
        "outputId": "a371da7c-c337-41a6-ef88-4ed0302d81a3"
      },
      "execution_count": null,
      "outputs": [
        {
          "output_type": "stream",
          "name": "stdout",
          "text": [
            "number is even number\n"
          ]
        }
      ]
    },
    {
      "cell_type": "markdown",
      "source": [
        "3.  if-elif-else Statement\n",
        "\n",
        "    The if-elif-else statement is useful when you have multiple conditions to check. If the if condition is false, the elif (short for \"else if\") conditions are checked one by one. If none of the if or elif conditions are true, the else block is executed.\n",
        "\n",
        "    Example-"
      ],
      "metadata": {
        "id": "7ZFIAzzAr1IB"
      }
    },
    {
      "cell_type": "code",
      "source": [
        "light = \"yellow\"\n",
        "if (light == \"red\"):\n",
        "  print(\"stop\")\n",
        "elif (light == \"green\"):\n",
        "  print(\"go\")\n",
        "else:\n",
        "  print(\"light is broken\")"
      ],
      "metadata": {
        "colab": {
          "base_uri": "https://localhost:8080/"
        },
        "id": "nEPhimW4sSsQ",
        "outputId": "f0ccae1a-7368-4278-b62f-f5ac730dce8e"
      },
      "execution_count": null,
      "outputs": [
        {
          "output_type": "stream",
          "name": "stdout",
          "text": [
            "light is broken\n"
          ]
        }
      ]
    },
    {
      "cell_type": "markdown",
      "source": [
        "4.  Nested if Statements\n",
        "\n",
        "   This is type of statement where we have multiple if else statement inside if else statement .\n",
        "\n",
        "   Example-"
      ],
      "metadata": {
        "id": "6ZyLJqF0tGcZ"
      }
    },
    {
      "cell_type": "code",
      "source": [
        "age = 12\n",
        "if (age >= 18):\n",
        "  if (age >= 80):\n",
        "    print(\"you should not  drive\")\n",
        "  else:\n",
        "    print(\"you can drive\")\n",
        "else:\n",
        "  print(\"you can not drive\")"
      ],
      "metadata": {
        "colab": {
          "base_uri": "https://localhost:8080/"
        },
        "id": "c6Zguhd-t1OS",
        "outputId": "a7aba2e6-f8b2-4168-90ce-e993919b2193"
      },
      "execution_count": null,
      "outputs": [
        {
          "output_type": "stream",
          "name": "stdout",
          "text": [
            "you can not drive\n"
          ]
        }
      ]
    },
    {
      "cell_type": "markdown",
      "source": [
        "Question 7.  Describe the different types of loops in Python and their use cases with examples.\n",
        "\n",
        "Ans:   In Python, loops allow you to execute a block of code multiple times. There are two main types of loops in Python: for and while loops.\n",
        "\n",
        "1.  For Loop\n",
        "\n",
        "    The for loop in Python is typically used for iterating over sequences such as lists, tuples, strings, dictionaries, or ranges. It allows you to access each element in the sequence one by one.\n",
        "\n",
        "    Example-"
      ],
      "metadata": {
        "id": "YX8dgYFj7O0_"
      }
    },
    {
      "cell_type": "code",
      "source": [
        "numbers = [1, 4, 9, 16, 25, 36, 49, 64, 81, 100]\n",
        "for i in numbers:\n",
        "  print(i,end=\" \")"
      ],
      "metadata": {
        "colab": {
          "base_uri": "https://localhost:8080/"
        },
        "id": "DR44viM08aBB",
        "outputId": "e9ae6d47-f820-46fd-9d32-fac80493dea5"
      },
      "execution_count": 3,
      "outputs": [
        {
          "output_type": "stream",
          "name": "stdout",
          "text": [
            "1 4 9 16 25 36 49 64 81 100 "
          ]
        }
      ]
    },
    {
      "cell_type": "markdown",
      "source": [
        "2.  While Loop\n",
        "\n",
        "   The while loop in Python keeps executing as long as a specified condition is True.\n",
        "\n",
        "   Example-\n",
        "   "
      ],
      "metadata": {
        "id": "YGFnhiEq9EGx"
      }
    },
    {
      "cell_type": "code",
      "source": [
        "n = 10\n",
        "i = 1\n",
        "while i <= n:\n",
        "  print(i , end=\" \")\n",
        "  i += 1"
      ],
      "metadata": {
        "colab": {
          "base_uri": "https://localhost:8080/"
        },
        "id": "SALNkhX1_AKc",
        "outputId": "e36471bb-e53f-4839-b985-79023c578958"
      },
      "execution_count": 6,
      "outputs": [
        {
          "output_type": "stream",
          "name": "stdout",
          "text": [
            "1 2 3 4 5 6 7 8 9 10 "
          ]
        }
      ]
    }
  ]
}